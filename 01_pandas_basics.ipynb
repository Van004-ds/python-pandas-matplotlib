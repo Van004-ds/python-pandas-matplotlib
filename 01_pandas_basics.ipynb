{
 "cells": [
  {
   "cell_type": "code",
   "execution_count": 6,
   "id": "a1450ca1-e142-44c7-9fc3-74fee66752ef",
   "metadata": {},
   "outputs": [],
   "source": [
    "import matplotlib.pyplot as plt \n",
    "import numpy as np \n",
    "import pandas as pd \n",
    "import math \n"
   ]
  },
  {
   "cell_type": "code",
   "execution_count": 7,
   "id": "632de067-4225-4022-b490-1edfa5b98968",
   "metadata": {},
   "outputs": [
    {
     "data": {
      "image/png": "[encoded data removed]",
      "text/plain": [
       "<Figure size 640x480 with 1 Axes>"
      ]
     },
     "metadata": {},
     "output_type": "display_data"
    }
   ],
   "source": [
    "x = [1 , 2,3,4,5]\n",
    "y = [1, 4,9 ,16 ,25 ]\n",
    "plt.plot(x,y, label =\"y=x^2\",color = \"purple\", linestyle = \"--\", marker = \"*\")\n",
    "plt.xlabel(\"x values\")\n",
    "plt.ylabel(\" y = x^2\")\n",
    "plt.title(\" X and Y relationship graph \", color = \"blue\")\n",
    "plt.legend()\n",
    "plt.show() \n"
   ]
  },
  {
   "cell_type": "code",
   "execution_count": 8,
   "id": "1aa3acf5-2cd9-495f-af9a-6da9601a3afc",
   "metadata": {},
   "outputs": [
    {
     "name": "stdout",
     "output_type": "stream",
     "text": [
      "879\n"
     ]
    }
   ],
   "source": [
    "\n",
    "\n",
    "d = {'A ': 100 , 'B' : 540 , 'C' :239 }\n",
    "summing = sum (d.values() )\n",
    "print(summing)                 "
   ]
  },
  {
   "cell_type": "code",
   "execution_count": 9,
   "id": "17f481f7-75f4-4d19-b4af-b6f459c257f5",
   "metadata": {},
   "outputs": [
    {
     "data": {
      "text/plain": [
       "{'america', 'london', 'pakistan'}"
      ]
     },
     "execution_count": 9,
     "metadata": {},
     "output_type": "execute_result"
    }
   ],
   "source": [
    "s1 = {\"america\", \"korea\",\"london\",\"pakistan\"}\n",
    "s2 = {\"seouk\",\"korea\",\"india\",\"thailand\"}\n",
    "s1.difference(s2)\n",
    "\n",
    "\n",
    "# s1.update(s2)\n",
    "# print(s1)\n"
   ]
  },
  {
   "cell_type": "code",
   "execution_count": 10,
   "id": "64f544d9-364d-4812-a36e-14437ed8e378",
   "metadata": {},
   "outputs": [
    {
     "name": "stdout",
     "output_type": "stream",
     "text": [
      "[1, 4, 9, 16, 25]\n"
     ]
    }
   ],
   "source": [
    "numbers = [1, 2, 3, 4, 5]\n",
    "squared = list(map(lambda x: x**2, numbers))\n",
    "print(squared)  # Output: [1, 4, 9, 16, 25]\n"
   ]
  },
  {
   "cell_type": "code",
   "execution_count": 11,
   "id": "7f066002-611c-4f4e-b47b-5ebacf6c3b39",
   "metadata": {},
   "outputs": [
    {
     "name": "stdout",
     "output_type": "stream",
     "text": [
      "1\n",
      "2\n"
     ]
    }
   ],
   "source": [
    "def simple_generator():\n",
    "    yield 1\n",
    "    yield 2\n",
    "    yield 3\n",
    "gen = simple_generator()\n",
    "print(next(gen))\n",
    "print(next(gen))\n",
    "\n",
    "\n",
    "    "
   ]
  },
  {
   "cell_type": "code",
   "execution_count": 12,
   "id": "42f448d4-c061-4ff8-b7de-3e6cf4a048e4",
   "metadata": {},
   "outputs": [],
   "source": [
    "ran_array = np.random.randint(10,50,5)"
   ]
  },
  {
   "cell_type": "code",
   "execution_count": 13,
   "id": "6c3582f1-44b2-47d1-8d9f-fbc0cb1d016f",
   "metadata": {},
   "outputs": [
    {
     "name": "stdout",
     "output_type": "stream",
     "text": [
      "[24 34 28 12 25]\n"
     ]
    }
   ],
   "source": [
    "print(ran_array)"
   ]
  },
  {
   "cell_type": "code",
   "execution_count": 14,
   "id": "7db752ff-5cec-4c89-89ee-21d901364e66",
   "metadata": {},
   "outputs": [
    {
     "name": "stdout",
     "output_type": "stream",
     "text": [
      "      Name  Age         City\n",
      "0    Alice   25     New York\n",
      "1      Bob   30  Los Angeles\n",
      "2  Charlie   35      Chicago\n",
      "3    David   40      Houston\n"
     ]
    }
   ],
   "source": [
    "data = {\n",
    "    'Name': ['Alice', 'Bob', 'Charlie', 'David'],\n",
    "    'Age': [25, 30, 35, 40],\n",
    "    'City': ['New York', 'Los Angeles', 'Chicago', 'Houston']\n",
    "}\n",
    "df = pd.DataFrame(data)\n",
    "print(df)"
   ]
  },
  {
   "cell_type": "code",
   "execution_count": 15,
   "id": "756deccd-1dde-4fd8-914e-4d2d34ce3d75",
   "metadata": {},
   "outputs": [
    {
     "name": "stdout",
     "output_type": "stream",
     "text": [
      "-\n"
     ]
    }
   ],
   "source": [
    "ascaii = 45\n",
    "character = chr(ascaii)\n",
    "print(character)"
   ]
  },
  {
   "cell_type": "code",
   "execution_count": 24,
   "id": "a6326a90-ee4e-4237-8985-8a38a9d6641a",
   "metadata": {},
   "outputs": [
    {
     "name": "stdout",
     "output_type": "stream",
     "text": [
      "[[1. 0. 0. 0. 0. 0.]\n",
      " [0. 1. 0. 0. 0. 0.]\n",
      " [0. 0. 1. 0. 0. 0.]\n",
      " [0. 0. 0. 1. 0. 0.]\n",
      " [0. 0. 0. 0. 1. 0.]\n",
      " [0. 0. 0. 0. 0. 1.]\n",
      " [0. 0. 0. 0. 0. 0.]]\n"
     ]
    }
   ],
   "source": [
    "mat = np.eye(7,6)\n",
    "print(mat)"
   ]
  },
  {
   "cell_type": "code",
   "execution_count": 27,
   "id": "80d4c93e-d22c-41f5-9546-cc24b5468f7e",
   "metadata": {},
   "outputs": [
    {
     "name": "stdout",
     "output_type": "stream",
     "text": [
      "Prime numbers up to 30 : [2, 3, 5, 7, 11, 13, 17, 19, 23, 29]\n"
     ]
    }
   ],
   "source": [
    "def is_prime(n):\n",
    "    \"\"\"Check if a number is prime\"\"\"\n",
    "    if n < 2:  # Numbers less than 2 are not prime\n",
    "        return False\n",
    "    for i in range(2, int(n ** 0.5) + 1):  # Check divisibility up to √n\n",
    "        if n % i == 0:\n",
    "            return False  # Not prime if divisible\n",
    "    return True  # Prime number\n",
    "\n",
    "def generate_primes(N):\n",
    "    \"\"\"Generate a list of prime numbers up to N\"\"\"\n",
    "    primes = []  # List to store prime numbers\n",
    "    for num in range(2, N + 1):  # Start from 2 to N\n",
    "        if is_prime(num):  # Check if the number is prime\n",
    "            primes.append(num)  # Add to the list\n",
    "    return primes  # Return the list of prime numbers\n",
    "\n",
    "# Example usage\n",
    "N = 30\n",
    "print(\"Prime numbers up to\", N, \":\", generate_primes(N))\n"
   ]
  },
  {
   "cell_type": "code",
   "execution_count": 29,
   "id": "226d4a8f-ff98-46f2-93bc-ddb0b5157955",
   "metadata": {},
   "outputs": [
    {
     "name": "stdout",
     "output_type": "stream",
     "text": [
      "['HELLO', 'PYTHON', 'WORLD']\n"
     ]
    }
   ],
   "source": [
    "words = [\"hello\", \"python\", \"world\"]\n",
    "uppercase_words = [word.upper() for word in words]\n",
    "print(uppercase_words)  # Output: ['HELLO', 'PYTHON', 'WORLD']"
   ]
  }
 ],
 "metadata": {
  "kernelspec": {
   "display_name": "Python 3 (ipykernel)",
   "language": "python",
   "name": "python3"
  },
  "language_info": {
   "codemirror_mode": {
    "name": "ipython",
    "version": 3
   },
   "file_extension": ".py",
   "mimetype": "text/x-python",
   "name": "python",
   "nbconvert_exporter": "python",
   "pygments_lexer": "ipython3",
   "version": "3.11.9"
  }
 },
 "nbformat": 4,
 "nbformat_minor": 5
}
